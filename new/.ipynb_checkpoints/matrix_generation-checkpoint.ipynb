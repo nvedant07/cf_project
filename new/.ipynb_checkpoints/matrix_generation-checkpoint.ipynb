{
 "cells": [
  {
   "cell_type": "code",
   "execution_count": 1,
   "metadata": {
    "collapsed": true
   },
   "outputs": [],
   "source": [
    "import pandas as pd\n",
    "import numpy as np\n",
    "import os\n",
    "import json\n",
    "import h5py\n",
    "import operator"
   ]
  },
  {
   "cell_type": "code",
   "execution_count": 2,
   "metadata": {},
   "outputs": [
    {
     "name": "stdout",
     "output_type": "stream",
     "text": [
      "yolo\n",
      "3000 1000\n"
     ]
    }
   ],
   "source": [
    "ratings = pd.read_csv('./epinions_subset/ratings_data.txt', sep=' ', header=None, index_col=0, names=['userid','itemid','rating'])\n",
    "#ratings_copy = ratings.reset_index().set_index('itemid')\n",
    "user_frequencies = {}\n",
    "item_frequencies = {}\n",
    "userids = set(ratings.index)\n",
    "itemids = set(ratings['itemid'])\n",
    "for i in userids:\n",
    "    user_frequencies[i] = len(ratings.loc[i])\n",
    "for i in itemids:\n",
    "    item_frequencies[i] = len(ratings[ratings['itemid'] == i])\n",
    "print(\"yolo\")\n",
    "sorted_users = sorted(user_frequencies.items(), key=operator.itemgetter(1))\n",
    "sorted_users = set(sorted_users[-3000::])\n",
    "\n",
    "all_items = set()\n",
    "for user in sorted_users:\n",
    "    all_items = all_items | set(ratings.loc[user[0]]['itemid'])\n",
    "\n",
    "updated_item_freq = {}\n",
    "for item in all_items:\n",
    "    updated_item_freq[item] = item_frequencies.pop(item)\n",
    "    \n",
    "sorted_items = sorted(updated_item_freq.items(), key=operator.itemgetter(1))\n",
    "sorted_items = set(sorted_items[-1000::])\n",
    "\n",
    "print(len(sorted_users), len(sorted_items))"
   ]
  },
  {
   "cell_type": "code",
   "execution_count": 4,
   "metadata": {},
   "outputs": [
    {
     "name": "stdout",
     "output_type": "stream",
     "text": [
      "Yolo\n",
      "Yolo\n",
      "Yolo\n",
      "Yolo\n",
      "Yolo\n",
      "Yolo\n",
      "Yolo\n",
      "Yolo\n",
      "Yolo\n",
      "Yolo\n",
      "Yolo\n",
      "Yolo\n",
      "Yolo\n",
      "Yolo\n",
      "Yolo\n",
      "Yolo\n",
      "Yolo\n",
      "Yolo\n",
      "Yolo\n",
      "Yolo\n",
      "Yolo\n",
      "Yolo\n",
      "Yolo\n",
      "Yolo\n",
      "Yolo\n",
      "Yolo\n",
      "Yolo\n",
      "Yolo\n",
      "Yolo\n",
      "Yolo\n"
     ]
    }
   ],
   "source": [
    "user_mapping = {}\n",
    "item_mapping = {}\n",
    "user_item_matrix = np.zeros((len(sorted_users), len(sorted_items)))\n",
    "user_count = 0\n",
    "for user in sorted_users:\n",
    "    item_count = 0\n",
    "    for item in sorted_items:\n",
    "        if item[0] in set(ratings.loc[user[0]]['itemid']):\n",
    "            temp = ratings.loc[user[0]].reset_index().set_index('itemid')\n",
    "            if isinstance(temp, pd.Series):\n",
    "                score = temp['rating']\n",
    "            else:\n",
    "                score = temp.loc[item[0]]['rating']\n",
    "            user_item_matrix[user_count][item_count] = score\n",
    "        item_mapping[item_count] = item[0]\n",
    "        item_count += 1\n",
    "    user_mapping[user_count] = user[0]\n",
    "    user_count += 1\n",
    "    if user_count % 100 == 0:\n",
    "        print (\"Yolo\")"
   ]
  },
  {
   "cell_type": "code",
   "execution_count": 7,
   "metadata": {},
   "outputs": [],
   "source": [
    "np.savetxt('./epinions_subset/user_item_matrix.txt', user_item_matrix)\n",
    "user_mapping = {int(k):int(v) for k,v in user_mapping.items()}\n",
    "item_mapping = {int(k):int(v) for k,v in item_mapping.items()}\n",
    "f = open('./epinions_subset/user_mapping.json','w')\n",
    "f.write(json.dumps(user_mapping))\n",
    "f.close()\n",
    "f = open('./epinions_subset/item_mapping.json','w')\n",
    "f.write(json.dumps(item_mapping))\n",
    "f.close()"
   ]
  },
  {
   "cell_type": "code",
   "execution_count": 3,
   "metadata": {
    "collapsed": true
   },
   "outputs": [],
   "source": [
    "data = h5py.File('user_item_mat_all_users_all_items', \"r\")\n",
    "mat = data['matrix'][ : ]"
   ]
  },
  {
   "cell_type": "code",
   "execution_count": 9,
   "metadata": {},
   "outputs": [
    {
     "name": "stdout",
     "output_type": "stream",
     "text": [
      "(43228,)\n"
     ]
    }
   ],
   "source": [
    "mat.shape\n",
    "print(mat[mat == 1].shape)"
   ]
  },
  {
   "cell_type": "code",
   "execution_count": null,
   "metadata": {
    "collapsed": true
   },
   "outputs": [],
   "source": []
  }
 ],
 "metadata": {
  "kernelspec": {
   "display_name": "Python 3",
   "language": "python",
   "name": "python3"
  },
  "language_info": {
   "codemirror_mode": {
    "name": "ipython",
    "version": 3
   },
   "file_extension": ".py",
   "mimetype": "text/x-python",
   "name": "python",
   "nbconvert_exporter": "python",
   "pygments_lexer": "ipython3",
   "version": "3.6.1"
  }
 },
 "nbformat": 4,
 "nbformat_minor": 2
}
